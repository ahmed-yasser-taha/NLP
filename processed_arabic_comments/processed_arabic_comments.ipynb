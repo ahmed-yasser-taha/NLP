{
 "cells": [
  {
   "cell_type": "code",
   "execution_count": 2,
   "metadata": {},
   "outputs": [],
   "source": [
    "import pandas as pd\n",
    "import re\n",
    "import nltk\n",
    "import matplotlib.pyplot as plt\n",
    "import seaborn as sns\n",
    "from collections import Counter\n",
    "from nltk.stem.isri import ISRIStemmer\n",
    "from nltk.corpus import stopwords\n",
    "from wordcloud import WordCloud"
   ]
  },
  {
   "cell_type": "markdown",
   "metadata": {},
   "source": [
    "Step 1: Load Data"
   ]
  },
  {
   "cell_type": "code",
   "execution_count": 3,
   "metadata": {},
   "outputs": [
    {
     "name": "stdout",
     "output_type": "stream",
     "text": [
      "Initial Dataset:\n"
     ]
    },
    {
     "data": {
      "text/html": [
       "<div>\n",
       "<style scoped>\n",
       "    .dataframe tbody tr th:only-of-type {\n",
       "        vertical-align: middle;\n",
       "    }\n",
       "\n",
       "    .dataframe tbody tr th {\n",
       "        vertical-align: top;\n",
       "    }\n",
       "\n",
       "    .dataframe thead th {\n",
       "        text-align: right;\n",
       "    }\n",
       "</style>\n",
       "<table border=\"1\" class=\"dataframe\">\n",
       "  <thead>\n",
       "    <tr style=\"text-align: right;\">\n",
       "      <th></th>\n",
       "      <th>Id</th>\n",
       "      <th>Platform</th>\n",
       "      <th>Comment</th>\n",
       "      <th>Majority_Label</th>\n",
       "      <th>Agreement</th>\n",
       "      <th>NumOfJudgementUsed</th>\n",
       "      <th>Total_Judgement</th>\n",
       "      <th>Vulgar:V/HateSpeech:HS/None:-</th>\n",
       "    </tr>\n",
       "  </thead>\n",
       "  <tbody>\n",
       "    <tr>\n",
       "      <th>0</th>\n",
       "      <td>1</td>\n",
       "      <td>Twitter</td>\n",
       "      <td>@User.IDX في فترة الصغر والمراهقة يكون من الصع...</td>\n",
       "      <td>Non-Offensive</td>\n",
       "      <td>100.0</td>\n",
       "      <td>3</td>\n",
       "      <td>3</td>\n",
       "      <td>-</td>\n",
       "    </tr>\n",
       "    <tr>\n",
       "      <th>1</th>\n",
       "      <td>2</td>\n",
       "      <td>Facebook</td>\n",
       "      <td>\"ردا على معظم الردود .. أحب اوضحلكم ان عمليات ...</td>\n",
       "      <td>Non-Offensive</td>\n",
       "      <td>100.0</td>\n",
       "      <td>3</td>\n",
       "      <td>4</td>\n",
       "      <td>-</td>\n",
       "    </tr>\n",
       "    <tr>\n",
       "      <th>2</th>\n",
       "      <td>3</td>\n",
       "      <td>Twitter</td>\n",
       "      <td>@User.IDX يجب ان تذكروا ان لكل سنة ثيم للحفل و...</td>\n",
       "      <td>Non-Offensive</td>\n",
       "      <td>100.0</td>\n",
       "      <td>3</td>\n",
       "      <td>5</td>\n",
       "      <td>-</td>\n",
       "    </tr>\n",
       "    <tr>\n",
       "      <th>3</th>\n",
       "      <td>4</td>\n",
       "      <td>YouTube</td>\n",
       "      <td>بتعمل حلقة صغيرة عشان عندي امتحان بكرة ومتضيعل...</td>\n",
       "      <td>Non-Offensive</td>\n",
       "      <td>100.0</td>\n",
       "      <td>3</td>\n",
       "      <td>3</td>\n",
       "      <td>-</td>\n",
       "    </tr>\n",
       "    <tr>\n",
       "      <th>4</th>\n",
       "      <td>5</td>\n",
       "      <td>YouTube</td>\n",
       "      <td>على طاري السطحيه مدري ليه تذكرت فيحان</td>\n",
       "      <td>Non-Offensive</td>\n",
       "      <td>100.0</td>\n",
       "      <td>3</td>\n",
       "      <td>3</td>\n",
       "      <td>-</td>\n",
       "    </tr>\n",
       "  </tbody>\n",
       "</table>\n",
       "</div>"
      ],
      "text/plain": [
       "   Id  Platform                                            Comment  \\\n",
       "0   1   Twitter  @User.IDX في فترة الصغر والمراهقة يكون من الصع...   \n",
       "1   2  Facebook  \"ردا على معظم الردود .. أحب اوضحلكم ان عمليات ...   \n",
       "2   3   Twitter  @User.IDX يجب ان تذكروا ان لكل سنة ثيم للحفل و...   \n",
       "3   4   YouTube  بتعمل حلقة صغيرة عشان عندي امتحان بكرة ومتضيعل...   \n",
       "4   5   YouTube             على طاري السطحيه مدري ليه تذكرت فيحان    \n",
       "\n",
       "  Majority_Label  Agreement  NumOfJudgementUsed  Total_Judgement  \\\n",
       "0  Non-Offensive      100.0                   3                3   \n",
       "1  Non-Offensive      100.0                   3                4   \n",
       "2  Non-Offensive      100.0                   3                5   \n",
       "3  Non-Offensive      100.0                   3                3   \n",
       "4  Non-Offensive      100.0                   3                3   \n",
       "\n",
       "  Vulgar:V/HateSpeech:HS/None:-  \n",
       "0                             -  \n",
       "1                             -  \n",
       "2                             -  \n",
       "3                             -  \n",
       "4                             -  "
      ]
     },
     "execution_count": 3,
     "metadata": {},
     "output_type": "execute_result"
    }
   ],
   "source": [
    "df = pd.read_excel(\"Copy of Arabic_offensive_comment_detection(1).xlsx\")\n",
    "print(\"Initial Dataset:\")\n",
    "df.head()"
   ]
  },
  {
   "cell_type": "code",
   "execution_count": 4,
   "metadata": {},
   "outputs": [
    {
     "name": "stdout",
     "output_type": "stream",
     "text": [
      "\n",
      "Dataset Columns:\n",
      "Index(['Id', 'Platform', 'Comment', 'Majority_Label', 'Agreement',\n",
      "       'NumOfJudgementUsed', 'Total_Judgement',\n",
      "       'Vulgar:V/HateSpeech:HS/None:-'],\n",
      "      dtype='object')\n"
     ]
    }
   ],
   "source": [
    "# Display initial dataset\n",
    "print(\"\\nDataset Columns:\")\n",
    "print(df.columns)"
   ]
  },
  {
   "cell_type": "markdown",
   "metadata": {},
   "source": [
    "Step 2: Load Arabic Stopwords"
   ]
  },
  {
   "cell_type": "code",
   "execution_count": 5,
   "metadata": {},
   "outputs": [
    {
     "name": "stdout",
     "output_type": "stream",
     "text": [
      "701\n"
     ]
    },
    {
     "name": "stderr",
     "output_type": "stream",
     "text": [
      "[nltk_data] Downloading package stopwords to C:\\Users\\ahmed\n",
      "[nltk_data]     yasser\\AppData\\Roaming\\nltk_data...\n",
      "[nltk_data]   Package stopwords is already up-to-date!\n"
     ]
    }
   ],
   "source": [
    "# Download stopwords\n",
    "nltk.download('stopwords')\n",
    "\n",
    "# Load Arabic stopwords\n",
    "stop_word_arabic = set(stopwords.words(\"arabic\"))\n",
    "print(len(stop_word_arabic))\n",
    "\n"
   ]
  },
  {
   "cell_type": "code",
   "execution_count": 15,
   "metadata": {},
   "outputs": [
    {
     "data": {
      "text/plain": [
       "'أمّا - نا - عاشر - نَخْ - إليكم - حاء - لهما - هَذانِ - ؤ - زعم - فإذا - فيما - ليسا - ذِه - متى - ستة - مكانكم - تعلَّم - صبرا - تحوّل - وما - يورو - منه - لكيلا - أيلول - زود - فيها - أهلا - حبذا - نوفمبر - خلا - إياه - بخ - تعسا - سادس - تشرين - أينما - ض - لكنما - أرى - على - هنالك - إياك - أبٌ - بكن - ذلكن - بهما - واحد - ف - خاصة - والذي - جنيه - ذيت - اللذين - بمن - أطعم - خبَّر - تي - منها - أم - ثمانون - ياء - ظاء - وراءَك - اللتيا - ممن - كلاهما - أنًّ - رجع - صبر - فوق - اخلولق - سبعين - إذ - أربعاء - غير - إليكنّ - تاسع - بس - ثم - ثاء - آنفا - تلقاء - معاذ - حدَث - إذما - كأنّ - عليه - آناء - ستمائة - إياكن - لا - أمام - كأين - إذن - غادر - اللائي - ولكن - ثلاثة - نفس - وا - كأنما - حقا - ثلاث - ضحوة - ست - وهو - تفعلان - أفعل به - همزة - قرش - خمسين - الألاء - ن - عوض - هذا - هذي - دون - أنتما - إيانا - ذَيْنِ - كليكما - ل - ثالث - حيَّ - يوان - سبعة - كِخ - لا سيما - ذا - غداة - عشر - أخو - كيت - هَاتانِ - ث - أل - تجاه - أيّان - ليسوا - ء - صهْ - لهم - سنتيم - أقل - هَؤلاء - أنبأ - مائة - عاد - بل - ألا - ذان - عشرين - أيها - اثنان - هلّا - أى - إلى - كأيّ - يوليو - جويلية - مكانكما - ومن - علم - اللاتي - هو - هَذَيْنِ - حجا - أعلم - ليستا - هل - كلما - أ - ريث - لام - كأن - ظنَّ - صار - كى - كسا - خ - عند - كأي - خلف - يفعلون - رزق - يونيو - صهٍ - طفق - أنّى - ج - بعدا - إياكما - نون - عشرون - اللتين - أوّهْ - سبت - لستن - لما - تِي - أين - حادي - إياهما - ديسمبر - إى - فلس - هم - حار - أنا - التي - أوت - ذاك - ذ - تسعمئة - نيف - الألى - أولاء - د - أوشك - إياهم - سبحان - أولئك - هاتي - جلل - رُبَّ - خلافا - آذار - اللتان - مايو - أمسى - واو - كم - غين - ذات - بنا - به - لن - هاك - تانِ - ساء - عَدَسْ - ة - وهب - ذهب - بعد - هذه - هَاتِه - تسعون - بعض - عجبا - اتخذ - أقبل - ثمّة - عن - خمسمائة - وإذا - ى - عين - قبل - لكنَّ - دال - بهم - ك - أربعة - أيا - أوه - تَيْنِ - خميس - هن - أخٌ - هَيْهات - حمو - ّأيّان - بؤسا - تارة - هيا - إليكن - مئتان - فضلا - أنشأ - درى - أولالك - ريال - غالبا - كل - إليك - أصلا - ذو - أمد - بئس - قاطبة - كاف - سمعا - ب - وجد - إذاً - ذلك - حمدا - مارس - فلان - قام - مذ - طاق - هيهات - لكي - ضاد - ين - زاي - كليهما - ذانك - بكم - سبعمئة - ثلاثين - ذينك - لولا - ثمانية - حتى - أمس - جمعة - عل - كما - تفعلين - واهاً - فيفري - إياي - هاته - نحن - هي - ثمنمئة - كلّما - فبراير - سوف - إيهٍ - لبيك - ميم - جير - فإن - تسعين - سحقا - شيكل - حرى - أربعمئة - الذي - آهِ - سوى - إنا - نيسان - صراحة - ثماني - غدا - ش - لك - لاسيما - سقى - لات - لسنا - أربعمائة - اللواتي - بما - آب - ثان - هَذا - قاف - ماي - عشرة - شمال - هذين - طَق - هلم - أضحى - ت - شبه - رويدك - تِه - كاد - اربعون - أف - فاء - تفعلون - ثلاثاء - أول - ذي - شتانَ - فمن - ما أفعله - تسعمائة - دولار - خمسون - أما - طاء - ارتدّ - دونك - لعلَّ - علق - ثلاثمئة - هبّ - أفريل - أيّ - سبع - حمٌ - بك - إلّا - إما - عيانا - ته - عسى - ح - آه - ثمَّ - هيت - أنتن - ذواتا - خمس - ذلكما - تسع - آمينَ - نَّ - كي - بي - ليت - ط - ثلاثمائة - استحال - علًّ - إنَّ - أو - أيضا - حيثما - ليرة - درهم - ما انفك - دينار - جيم - هَذِي - لستما - أعطى - سرا - وُشْكَانَ - مرّة - بات - وإذ - م - إليكَ - إن - بلى - ابتدأ - ثاني - ذين - أنتِ - ا - أكثر - آها - هاء - هاكَ - ذال - بَسْ - خال - ها - مكانَك - قد - إلَيْكَ - يفعلان - آي - أبريل - تسعة - ظلّ - باء - وإن - هيّا - آض - هاتان - أن - أكتوبر - بسّ - لستم - ماذا - ولو - ولا - هلا - هؤلاء - أغسطس - ثمانين - مهما - إياهن - مادام - بها - هكذا - لدى - كذا - خمسمئة - خامس - تاء - إمّا - لوما - تخذ - نحو - عدا - سابع - ذلكم - حبيب - إي - إذا - صاد - عامة - ثمّ - كأيّن - إنما - جانفي - لسن - ق - ذانِ - شَتَّانَ - فو - مكانكنّ - في - طالما - عليك - بضع - غ - جعل - لئن - طرا - أحد - أصبح - حسب - من - أنتم - نبَّا - لهن - والذين - لنا - سين - هَاتِي - كيفما - ذِي - سبعون - هناك - هاهنا - حَذارِ - ه - لكم - فلا - ستمئة - بيد - سبتمبر - تينك - إحدى - حاشا - إياها - آهٍ - يا - سبعمائة - ذواتي - كلا - حزيران - بين - إنه - سرعان - بغتة - تلكم - أمامك - لكما - اللذان - ي - راء - أخبر - ءَ - مه - مازال - نعم - أبدا - وَيْ - أفٍّ - لي - لدن - ليست - دواليك - هما - مليم - ستون - لمّا - و - تين - إلا - أنى - تلكما - أربع - بخٍ - أُفٍّ - جميع - تموز - عما - هاتين - ص - أمامكَ - قطّ - مساء - مع - بَلْهَ - ز - شرع - مئة - هذان - ظ - أجل - تانِك - شتان - ثمان - حين - ألفى - تلك - شباط - عدَّ - ترك - ذه - رأى - ما - آ - إزاء - صدقا - إياكم - أنت - فيه - ستين - فرادى - مما - ليس - هَجْ - أجمع - لكن - ع - كن - لو - تبدّل - انقلب - حاي - له - لعل - تحت - يمين - ر - رابع - ثمانمئة - انبرى - أسكن - اربعين - اثنين - فيم - أخذ - إليكما - اثني - ثامن - كيف - خاء - هنا - بهن - اثنا - كذلك - مثل - هَاتَيْنِ - منذ - راح - جوان - هللة - ورد - لعمر - لست - ما برح - صباح - ثمة - شين - كلتا - لها - خمسة - آهاً - ذوا - يناير - س - هَذِه - أيار - حيث - بماذا - بكما - بطآن - مافتئ - الآن - كرب - أبو - لم - كلَّا - أي - ثلاثون - كانون - ئ - كثيرا - قلما - كان - الذين - ألف - إيه'"
      ]
     },
     "execution_count": 15,
     "metadata": {},
     "output_type": "execute_result"
    }
   ],
   "source": [
    "' - '.join(stop_word_arabic)"
   ]
  },
  {
   "cell_type": "markdown",
   "metadata": {},
   "source": [
    "Step 3: Initialize Stemmer"
   ]
  },
  {
   "cell_type": "code",
   "execution_count": 6,
   "metadata": {},
   "outputs": [],
   "source": [
    "stemmer = ISRIStemmer()\n",
    "\n",
    "def simple_tokenize(text):\n",
    "    return text.split()"
   ]
  },
  {
   "cell_type": "markdown",
   "metadata": {},
   "source": [
    " Step 4: Text Preprocessing Function"
   ]
  },
  {
   "cell_type": "code",
   "execution_count": 7,
   "metadata": {},
   "outputs": [],
   "source": [
    "def preprocess_text(text):\n",
    "    if not isinstance(text, str):\n",
    "        return \"\"\n",
    "    text = re.sub(r\"@\\w+\", \"\", text)  # Remove mentions (@User.IDX)\n",
    "    text = re.sub(r\"[\\\\d,؛?؟!.,:(){}\\[\\]\\-]\", \" \", text)  # Remove punctuation & special characters\n",
    "    text = re.sub(r\"\\s+\", \" \", text).strip()  # Remove extra spaces\n",
    "    words = simple_tokenize(text)  # Tokenize text\n",
    "    words = [word for word in words if word not in stop_word_arabic]  # Remove stopwords\n",
    "    words = [stemmer.stem(word) for word in words]  # Apply stemming\n",
    "    return \" \".join(words)"
   ]
  },
  {
   "cell_type": "markdown",
   "metadata": {},
   "source": [
    "Step 5: Apply Preprocessing"
   ]
  },
  {
   "cell_type": "code",
   "execution_count": 8,
   "metadata": {},
   "outputs": [],
   "source": [
    "if \"Comment\" in df.columns:\n",
    "    df[\"cleaned_text\"] = df[\"Comment\"].apply(preprocess_text)\n",
    "else:\n",
    "    print(\"Error: Column 'Comment' not found in dataset.\")"
   ]
  },
  {
   "cell_type": "markdown",
   "metadata": {},
   "source": [
    "Step 6: Define Regex Patterns"
   ]
  },
  {
   "cell_type": "code",
   "execution_count": 9,
   "metadata": {},
   "outputs": [],
   "source": [
    "patterns = {\n",
    "    \"repeated_words\": re.compile(r\"\\b(\\w+)( \\1)+\\b\"),  # Detect repeated words (e.g., \"جدا جدا\")\n",
    "    \"emojis\": re.compile(r\"[\\U0001F600-\\U0001F64F]|[\\U0001F300-\\U0001F5FF]\"),  # Detect emojis\n",
    "    \"common_suffixes\": re.compile(r\"\\w+(\\u064a\\u0629|\\u064a\\u0627\\u062a|\\u064a\\u0646|\\u0648\\u0646|\\u0627\\u0646|\\u062a\\u0645|\\u062a\\u0647|\\u0647\\u0627|\\u0643\\u0645|\\u0647\\u0645|\\u0646\\u0627)\\b\")  # Detect common Arabic suffixes\n",
    "}"
   ]
  },
  {
   "cell_type": "markdown",
   "metadata": {},
   "source": [
    " Step 7: Extract Patterns"
   ]
  },
  {
   "cell_type": "code",
   "execution_count": 10,
   "metadata": {},
   "outputs": [],
   "source": [
    "def extract_patterns(text, pattern):\n",
    "    return pattern.findall(text) if isinstance(text, str) else []\n",
    "\n",
    "if \"cleaned_text\" in df.columns:\n",
    "    df[\"repeated_words\"] = df[\"cleaned_text\"].apply(lambda x: extract_patterns(x, patterns[\"repeated_words\"]))\n",
    "    df[\"emojis\"] = df[\"Comment\"].apply(lambda x: extract_patterns(x, patterns[\"emojis\"]))\n",
    "    df[\"suffixes\"] = df[\"cleaned_text\"].apply(lambda x: extract_patterns(x, patterns[\"common_suffixes\"]))\n"
   ]
  },
  {
   "cell_type": "markdown",
   "metadata": {},
   "source": [
    "Step 8: Display Basic Analysis"
   ]
  },
  {
   "cell_type": "code",
   "execution_count": 11,
   "metadata": {},
   "outputs": [
    {
     "name": "stdout",
     "output_type": "stream",
     "text": [
      "\n",
      "Cleaned Dataset Sample:\n",
      "   Id  Platform                                            Comment  \\\n",
      "0   1   Twitter  @User.IDX في فترة الصغر والمراهقة يكون من الصع...   \n",
      "1   2  Facebook  \"ردا على معظم الردود .. أحب اوضحلكم ان عمليات ...   \n",
      "2   3   Twitter  @User.IDX يجب ان تذكروا ان لكل سنة ثيم للحفل و...   \n",
      "3   4   YouTube  بتعمل حلقة صغيرة عشان عندي امتحان بكرة ومتضيعل...   \n",
      "4   5   YouTube             على طاري السطحيه مدري ليه تذكرت فيحان    \n",
      "\n",
      "  Majority_Label  Agreement  NumOfJudgementUsed  Total_Judgement  \\\n",
      "0  Non-Offensive      100.0                   3                3   \n",
      "1  Non-Offensive      100.0                   3                4   \n",
      "2  Non-Offensive      100.0                   3                5   \n",
      "3  Non-Offensive      100.0                   3                3   \n",
      "4  Non-Offensive      100.0                   3                3   \n",
      "\n",
      "  Vulgar:V/HateSpeech:HS/None:-  \\\n",
      "0                             -   \n",
      "1                             -   \n",
      "2                             -   \n",
      "3                             -   \n",
      "4                             -   \n",
      "\n",
      "                                        cleaned_text repeated_words emojis  \\\n",
      "0  IDX فتر صغر رهق يكون صعب قبل علق صدقاء حول شعر...             []    [😔]   \n",
      "1  \"رد عظم ردد احب ضحل ان عمل زرع كلى تتم الا فى ...             []     []   \n",
      "2      IDX يجب ان ذكر ان لكل سنة ثيم حفل نوع حفل نكر             []     []   \n",
      "3  عمل حلق صغر عشن عند متح بكر ومتضيعليش اليوم ال...             []     []   \n",
      "4                            طري سطح دري ليه ذكر فيح             []     []   \n",
      "\n",
      "       suffixes  \n",
      "0          [ون]  \n",
      "1  [تم, ين, ين]  \n",
      "2            []  \n",
      "3            []  \n",
      "4            []  \n"
     ]
    }
   ],
   "source": [
    "print(\"\\nCleaned Dataset Sample:\")\n",
    "print(df.head())"
   ]
  },
  {
   "cell_type": "markdown",
   "metadata": {},
   "source": [
    "Step 9: Data Analysis & Visualization"
   ]
  },
  {
   "cell_type": "code",
   "execution_count": 12,
   "metadata": {},
   "outputs": [
    {
     "name": "stdout",
     "output_type": "stream",
     "text": [
      "Error: Column 'Label' not found in dataset.\n"
     ]
    }
   ],
   "source": [
    "if \"Label\" in df.columns:\n",
    "    # 1. Sentiment Distribution\n",
    "    plt.figure(figsize=(6,4))\n",
    "    sns.countplot(data=df, x=\"Label\", palette=\"viridis\")\n",
    "    plt.title(\"Sentiment Distribution\")\n",
    "    plt.xlabel(\"Sentiment\")\n",
    "    plt.ylabel(\"Count\")\n",
    "    plt.show()\n",
    "else:\n",
    "    print(\"Error: Column 'Label' not found in dataset.\")\n"
   ]
  },
  {
   "cell_type": "code",
   "execution_count": 14,
   "metadata": {},
   "outputs": [
    {
     "data": {
      "image/png": "[encoded data removed]",
      "text/plain": [
       "<Figure size 700x500 with 1 Axes>"
      ]
     },
     "metadata": {},
     "output_type": "display_data"
    }
   ],
   "source": [
    "# 3. Comment Length Distribution\n",
    "if \"cleaned_text\" in df.columns:\n",
    "    comment_lengths = df[\"cleaned_text\"].apply(lambda x: len(x.split()))\n",
    "    plt.figure(figsize=(7,5))\n",
    "    sns.histplot(comment_lengths, bins=20, kde=True, color=\"blue\")\n",
    "    plt.title(\"Comment Length Distribution\")\n",
    "    plt.xlabel(\"Number of Words\")\n",
    "    plt.ylabel(\"Frequency\")\n",
    "    plt.show()"
   ]
  },
  {
   "cell_type": "markdown",
   "metadata": {},
   "source": [
    "Step 10: Save Processed Data"
   ]
  },
  {
   "cell_type": "code",
   "execution_count": null,
   "metadata": {},
   "outputs": [],
   "source": [
    "processed_file_path = \"processed_arabic_comments.xlsx\"\n",
    "df.to_excel(processed_file_path, index=False)\n"
   ]
  },
  {
   "cell_type": "code",
   "execution_count": null,
   "metadata": {},
   "outputs": [
    {
     "name": "stdout",
     "output_type": "stream",
     "text": [
      " Data preprocessing completed successfully!\n"
     ]
    }
   ],
   "source": [
    "print(\" Data preprocessing completed successfully!\")\n"
   ]
  }
 ],
 "metadata": {
  "kernelspec": {
   "display_name": "nlp_env",
   "language": "python",
   "name": "python3"
  },
  "language_info": {
   "codemirror_mode": {
    "name": "ipython",
    "version": 3
   },
   "file_extension": ".py",
   "mimetype": "text/x-python",
   "name": "python",
   "nbconvert_exporter": "python",
   "pygments_lexer": "ipython3",
   "version": "3.9.21"
  }
 },
 "nbformat": 4,
 "nbformat_minor": 2
}
